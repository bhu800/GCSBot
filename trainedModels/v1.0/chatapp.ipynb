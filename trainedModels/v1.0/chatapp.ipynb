{
  "nbformat": 4,
  "nbformat_minor": 0,
  "metadata": {
    "colab": {
      "name": "chatapp.ipynb",
      "provenance": [],
      "mount_file_id": "1AXGD0mqEAa9NgAroDF6NiNay8fH2wgwR",
      "authorship_tag": "ABX9TyOVO00RJWpfIFYQcGz0J1I0",
      "include_colab_link": true
    },
    "kernelspec": {
      "name": "python3",
      "display_name": "Python 3"
    },
    "accelerator": "GPU"
  },
  "cells": [
    {
      "cell_type": "markdown",
      "metadata": {
        "id": "view-in-github",
        "colab_type": "text"
      },
      "source": [
        "<a href=\"https://colab.research.google.com/github/bhu800/GCSBot/blob/master/trainedModels/v1.0/chatapp.ipynb\" target=\"_parent\"><img src=\"https://colab.research.google.com/assets/colab-badge.svg\" alt=\"Open In Colab\"/></a>"
      ]
    },
    {
      "cell_type": "code",
      "metadata": {
        "id": "JdhUoqgYltMo",
        "colab_type": "code",
        "colab": {
          "base_uri": "https://localhost:8080/",
          "height": 106
        },
        "outputId": "236df748-acfa-40e4-e298-8af8a80ee600"
      },
      "source": [
        "import nltk\n",
        "from nltk.stem import WordNetLemmatizer\n",
        "lemmatizer = WordNetLemmatizer()\n",
        "import pickle\n",
        "import numpy as np\n",
        "from tensorflow.keras.models import load_model\n",
        "model = load_model('/content/drive/My Drive/GCSBot/trainedModels/v1.0/chatbot_model.h5')\n",
        "import json\n",
        "import random\n",
        "intents = json.loads(open('/content/drive/My Drive/GCSBot/GCSBot_FAQ_db_v1.0.json').read())\n",
        "words = pickle.load(open('/content/drive/My Drive/GCSBot/trainedModels/v1.0/words.pkl','rb'))\n",
        "classes = pickle.load(open('/content/drive/My Drive/GCSBot/trainedModels/v1.0/classes.pkl','rb'))\n",
        "\n",
        "nltk.download('punkt')\n",
        "nltk.download('wordnet')"
      ],
      "execution_count": 1,
      "outputs": [
        {
          "output_type": "stream",
          "text": [
            "[nltk_data] Downloading package punkt to /root/nltk_data...\n",
            "[nltk_data]   Unzipping tokenizers/punkt.zip.\n",
            "[nltk_data] Downloading package wordnet to /root/nltk_data...\n",
            "[nltk_data]   Unzipping corpora/wordnet.zip.\n"
          ],
          "name": "stdout"
        },
        {
          "output_type": "execute_result",
          "data": {
            "text/plain": [
              "True"
            ]
          },
          "metadata": {
            "tags": []
          },
          "execution_count": 1
        }
      ]
    },
    {
      "cell_type": "code",
      "metadata": {
        "id": "YHg2EPx9IEpt",
        "colab_type": "code",
        "colab": {}
      },
      "source": [
        "def clean_up_sentence(sentence):\n",
        "    # tokenize the pattern - split words into array\n",
        "    sentence_words = nltk.word_tokenize(sentence)\n",
        "    # stem each word - create short form for word\n",
        "    sentence_words = [lemmatizer.lemmatize(word.lower()) for word in sentence_words]\n",
        "    return sentence_words"
      ],
      "execution_count": 2,
      "outputs": []
    },
    {
      "cell_type": "code",
      "metadata": {
        "id": "QaGfEyyIQTWw",
        "colab_type": "code",
        "colab": {}
      },
      "source": [
        "def bow(sentence, words, show_details=True):\n",
        "    # tokenize the pattern\n",
        "    sentence_words = clean_up_sentence(sentence)\n",
        "    # bag of words - matrix of N words, vocabulary matrix\n",
        "    bag = [0]*len(words)  \n",
        "    for s in sentence_words:\n",
        "        for i,w in enumerate(words):\n",
        "            if w == s: \n",
        "                # assign 1 if current word is in the vocabulary position\n",
        "                bag[i] = 1\n",
        "                if show_details:\n",
        "                    print (\"found in bag: %s\" % w)\n",
        "    return(np.array(bag))"
      ],
      "execution_count": 3,
      "outputs": []
    },
    {
      "cell_type": "code",
      "metadata": {
        "id": "kT9_OEY0QlkD",
        "colab_type": "code",
        "colab": {}
      },
      "source": [
        "def predict_class(sentence, model):\n",
        "    # filter out predictions below a threshold\n",
        "    p = bow(sentence, words,show_details=False)\n",
        "    # print(\"p: \", p)\n",
        "    res = model.predict(np.array([p]))[0]\n",
        "    print(\"res: \", res)\n",
        "    ERROR_THRESHOLD = 0.25\n",
        "    # results = [[i,r] for i,r in enumerate(res) if r>ERROR_THRESHOLD]\n",
        "    results = [[i,r] for i,r in enumerate(res)]\n",
        "    print(\"results: \", results)\n",
        "    # sort by strength of probability\n",
        "    results.sort(key=lambda x: x[1], reverse=True)\n",
        "    return_list = []\n",
        "    for r in results:\n",
        "        return_list.append({\"intent\": classes[r[0]], \"probability\": str(r[1])})\n",
        "    return return_list"
      ],
      "execution_count": 26,
      "outputs": []
    },
    {
      "cell_type": "code",
      "metadata": {
        "id": "bGnEQfjYQ2yL",
        "colab_type": "code",
        "colab": {}
      },
      "source": [
        "def getResponse(ints, intents_json):\n",
        "    tag = ints[0]['intent']\n",
        "    list_of_intents = intents_json['intents']\n",
        "    for i in list_of_intents:\n",
        "        if(i['tag']== tag):\n",
        "            result = random.choice(i['responses'])\n",
        "            break\n",
        "    return result"
      ],
      "execution_count": 5,
      "outputs": []
    },
    {
      "cell_type": "code",
      "metadata": {
        "id": "5_P9B4clt2Ck",
        "colab_type": "code",
        "colab": {}
      },
      "source": [
        "def chatbot_response(msg):\n",
        "    ints = predict_class(msg, model)\n",
        "    print(ints)\n",
        "    res = getResponse(ints, intents)\n",
        "    return res"
      ],
      "execution_count": 8,
      "outputs": []
    },
    {
      "cell_type": "code",
      "metadata": {
        "id": "9rexmf0kuG-A",
        "colab_type": "code",
        "colab": {
          "base_uri": "https://localhost:8080/",
          "height": 197
        },
        "outputId": "fe488bd3-0565-4db6-b71d-11a09c235a24"
      },
      "source": [
        "print(\"BOT: \", chatbot_response(\"how can i book guest house\"))"
      ],
      "execution_count": 40,
      "outputs": [
        {
          "output_type": "stream",
          "text": [
            "res:  [0. 0. 0. 0. 0. 0. 0. 0. 0. 0. 0. 0. 0. 0. 0. 0. 0. 0. 0. 0. 0. 0. 0. 0.\n",
            " 0. 0. 0. 0. 0. 0. 0. 0. 0. 0. 0. 0. 0. 0. 0. 0. 0. 0. 0. 0. 0. 0. 0. 0.\n",
            " 0. 0. 0. 0. 0. 0. 0. 0. 0. 0. 0. 0. 0. 1. 0. 0. 0. 0. 0. 0. 0. 0. 0. 0.\n",
            " 0. 0. 0. 0. 0. 0. 0. 0. 0. 0. 0. 0. 0. 0. 0. 0. 0. 0. 0. 0. 0. 0. 0. 0.\n",
            " 0. 0. 0. 0. 0. 0. 0. 0. 0. 0. 0. 0. 0. 0. 0. 0. 0. 0. 0. 0. 0. 0. 0. 0.\n",
            " 0. 0. 0. 0. 0. 0.]\n",
            "results:  [[0, 0.0], [1, 0.0], [2, 0.0], [3, 0.0], [4, 0.0], [5, 0.0], [6, 0.0], [7, 0.0], [8, 0.0], [9, 0.0], [10, 0.0], [11, 0.0], [12, 0.0], [13, 0.0], [14, 0.0], [15, 0.0], [16, 0.0], [17, 0.0], [18, 0.0], [19, 0.0], [20, 0.0], [21, 0.0], [22, 0.0], [23, 0.0], [24, 0.0], [25, 0.0], [26, 0.0], [27, 0.0], [28, 0.0], [29, 0.0], [30, 0.0], [31, 0.0], [32, 0.0], [33, 0.0], [34, 0.0], [35, 0.0], [36, 0.0], [37, 0.0], [38, 0.0], [39, 0.0], [40, 0.0], [41, 0.0], [42, 0.0], [43, 0.0], [44, 0.0], [45, 0.0], [46, 0.0], [47, 0.0], [48, 0.0], [49, 0.0], [50, 0.0], [51, 0.0], [52, 0.0], [53, 0.0], [54, 0.0], [55, 0.0], [56, 0.0], [57, 0.0], [58, 0.0], [59, 0.0], [60, 0.0], [61, 1.0], [62, 0.0], [63, 0.0], [64, 0.0], [65, 0.0], [66, 0.0], [67, 0.0], [68, 0.0], [69, 0.0], [70, 0.0], [71, 0.0], [72, 0.0], [73, 0.0], [74, 0.0], [75, 0.0], [76, 0.0], [77, 0.0], [78, 0.0], [79, 0.0], [80, 0.0], [81, 0.0], [82, 0.0], [83, 0.0], [84, 0.0], [85, 0.0], [86, 0.0], [87, 0.0], [88, 0.0], [89, 0.0], [90, 0.0], [91, 0.0], [92, 0.0], [93, 0.0], [94, 0.0], [95, 0.0], [96, 0.0], [97, 0.0], [98, 0.0], [99, 0.0], [100, 0.0], [101, 0.0], [102, 0.0], [103, 0.0], [104, 0.0], [105, 0.0], [106, 0.0], [107, 0.0], [108, 0.0], [109, 0.0], [110, 0.0], [111, 0.0], [112, 0.0], [113, 0.0], [114, 0.0], [115, 0.0], [116, 0.0], [117, 0.0], [118, 0.0], [119, 0.0], [120, 0.0], [121, 0.0], [122, 0.0], [123, 0.0], [124, 0.0], [125, 0.0]]\n",
            "[{'intent': 'guest_house', 'probability': '1.0'}, {'intent': '5WIP', 'probability': '0.0'}, {'intent': 'Biotech_branch', 'probability': '0.0'}, {'intent': 'CE_branch', 'probability': '0.0'}, {'intent': 'CSE_branch', 'probability': '0.0'}, {'intent': 'DSE_branch', 'probability': '0.0'}, {'intent': 'EE_branch', 'probability': '0.0'}, {'intent': 'EP_branch', 'probability': '0.0'}, {'intent': 'Exodia', 'probability': '0.0'}, {'intent': 'HnT', 'probability': '0.0'}, {'intent': 'How_to_reach_IITMANDI', 'probability': '0.0'}, {'intent': 'IITMANDI_for_girls', 'probability': '0.0'}, {'intent': 'IITMandi_vs_other_new_IITs', 'probability': '0.0'}, {'intent': 'IIT_Mandi_campus', 'probability': '0.0'}, {'intent': 'MCM_scholarships', 'probability': '0.0'}, {'intent': 'ME_branch', 'probability': '0.0'}, {'intent': 'MTB', 'probability': '0.0'}, {'intent': 'NSO', 'probability': '0.0'}, {'intent': 'NSS', 'probability': '0.0'}, {'intent': 'art_geeks', 'probability': '0.0'}, {'intent': 'atm_and_bank_facilities', 'probability': '0.0'}, {'intent': 'books', 'probability': '0.0'}, {'intent': 'branch_change_criterion', 'probability': '0.0'}, {'intent': 'branch_change_cutoff_cgpa', 'probability': '0.0'}, {'intent': 'bus_schedule_IITMandi', 'probability': '0.0'}, {'intent': 'campus_facilities', 'probability': '0.0'}, {'intent': 'campus_for_freshers', 'probability': '0.0'}, {'intent': 'canteens_facilities', 'probability': '0.0'}, {'intent': 'certificates_and_documents', 'probability': '0.0'}, {'intent': 'change_room', 'probability': '0.0'}, {'intent': 'cinema_hall', 'probability': '0.0'}, {'intent': 'class_commencement', 'probability': '0.0'}, {'intent': 'club_audition', 'probability': '0.0'}, {'intent': 'co_curricular', 'probability': '0.0'}, {'intent': 'coding_culture', 'probability': '0.0'}, {'intent': 'companies_for_placements', 'probability': '0.0'}, {'intent': 'cultural_clubs', 'probability': '0.0'}, {'intent': 'curriculum_Biotech', 'probability': '0.0'}, {'intent': 'curriculum_CE', 'probability': '0.0'}, {'intent': 'curriculum_CSE', 'probability': '0.0'}, {'intent': 'curriculum_DSE', 'probability': '0.0'}, {'intent': 'curriculum_EE', 'probability': '0.0'}, {'intent': 'curriculum_EP', 'probability': '0.0'}, {'intent': 'curriculum_ME', 'probability': '0.0'}, {'intent': 'curriculum_overall', 'probability': '0.0'}, {'intent': 'cycle', 'probability': '0.0'}, {'intent': 'dance_club', 'probability': '0.0'}, {'intent': 'debating_club', 'probability': '0.0'}, {'intent': 'drama_club', 'probability': '0.0'}, {'intent': 'e_cell', 'probability': '0.0'}, {'intent': 'education_loan', 'probability': '0.0'}, {'intent': 'elective_courses', 'probability': '0.0'}, {'intent': 'faculties', 'probability': '0.0'}, {'intent': 'family_memebers_stay', 'probability': '0.0'}, {'intent': 'famous_alumni', 'probability': '0.0'}, {'intent': 'fees', 'probability': '0.0'}, {'intent': 'festival_holiday', 'probability': '0.0'}, {'intent': 'festivals_celebration', 'probability': '0.0'}, {'intent': 'first_year_courses', 'probability': '0.0'}, {'intent': 'goodbye', 'probability': '0.0'}, {'intent': 'grading_system', 'probability': '0.0'}, {'intent': 'greeting', 'probability': '0.0'}, {'intent': 'gym_facilities', 'probability': '0.0'}, {'intent': 'heaters_allowed', 'probability': '0.0'}, {'intent': 'hostel_allotment', 'probability': '0.0'}, {'intent': 'hostel_facilities', 'probability': '0.0'}, {'intent': 'hostel_necessities', 'probability': '0.0'}, {'intent': 'hostel_rules', 'probability': '0.0'}, {'intent': 'hotels_for_stay', 'probability': '0.0'}, {'intent': 'images_campus', 'probability': '0.0'}, {'intent': 'images_hostels_rooms', 'probability': '0.0'}, {'intent': 'internet_facilities', 'probability': '0.0'}, {'intent': 'internship_scenerio', 'probability': '0.0'}, {'intent': 'jain_food', 'probability': '0.0'}, {'intent': 'labs_and_research', 'probability': '0.0'}, {'intent': 'laptop', 'probability': '0.0'}, {'intent': 'last_year_closing_ranks', 'probability': '0.0'}, {'intent': 'life_at_IITMandi', 'probability': '0.0'}, {'intent': 'list_of_required_items', 'probability': '0.0'}, {'intent': 'literary_society', 'probability': '0.0'}, {'intent': 'mandi_town', 'probability': '0.0'}, {'intent': 'map_IIT_Mandi', 'probability': '0.0'}, {'intent': 'mentor', 'probability': '0.0'}, {'intent': 'mess_food', 'probability': '0.0'}, {'intent': 'music_club', 'probability': '0.0'}, {'intent': 'network_sim', 'probability': '0.0'}, {'intent': 'nirmaan_club', 'probability': '0.0'}, {'intent': 'noanswer', 'probability': '0.0'}, {'intent': 'non_veg', 'probability': '0.0'}, {'intent': 'online_delivery', 'probability': '0.0'}, {'intent': 'options', 'probability': '0.0'}, {'intent': 'placement_BioTech', 'probability': '0.0'}, {'intent': 'placement_CE', 'probability': '0.0'}, {'intent': 'placement_CSE', 'probability': '0.0'}, {'intent': 'placement_DSE', 'probability': '0.0'}, {'intent': 'placement_EE', 'probability': '0.0'}, {'intent': 'placement_ME', 'probability': '0.0'}, {'intent': 'placement_overall', 'probability': '0.0'}, {'intent': 'placements_EP', 'probability': '0.0'}, {'intent': 'problem_contact', 'probability': '0.0'}, {'intent': 'programming_club', 'probability': '0.0'}, {'intent': 'pure_veg', 'probability': '0.0'}, {'intent': 'quizzing_club', 'probability': '0.0'}, {'intent': 'ragging', 'probability': '0.0'}, {'intent': 'ranneeti', 'probability': '0.0'}, {'intent': 'registration_day', 'probability': '0.0'}, {'intent': 'robotronics_club', 'probability': '0.0'}, {'intent': 'room_occupancy', 'probability': '0.0'}, {'intent': 'scientific_calculator', 'probability': '0.0'}, {'intent': 'seniors', 'probability': '0.0'}, {'intent': 'snow_iit_mandi', 'probability': '0.0'}, {'intent': 'soft_copy_of_documents', 'probability': '0.0'}, {'intent': 'sports', 'probability': '0.0'}, {'intent': 'stac', 'probability': '0.0'}, {'intent': 'swimming_pool_facilities', 'probability': '0.0'}, {'intent': 'tech_clubs', 'probability': '0.0'}, {'intent': 'thanks', 'probability': '0.0'}, {'intent': 'ug_pg_hostels_together', 'probability': '0.0'}, {'intent': 'unique_activities', 'probability': '0.0'}, {'intent': 'vacations', 'probability': '0.0'}, {'intent': 'weather_at_IITMandi', 'probability': '0.0'}, {'intent': 'which_laptop', 'probability': '0.0'}, {'intent': 'why_IITMANDI', 'probability': '0.0'}, {'intent': 'wild_animals', 'probability': '0.0'}, {'intent': 'writing_club', 'probability': '0.0'}, {'intent': 'yantric_club', 'probability': '0.0'}]\n",
            "BOT:  guest_house (response is yet to be written!)\n"
          ],
          "name": "stdout"
        }
      ]
    },
    {
      "cell_type": "code",
      "metadata": {
        "id": "bde-cqx_uSJE",
        "colab_type": "code",
        "colab": {
          "base_uri": "https://localhost:8080/",
          "height": 197
        },
        "outputId": "93422f7d-5508-43c6-9ac2-41e4f78a199a"
      },
      "source": [
        "print(\"BOT: \", chatbot_response(\"which certificates are required at the time of registration\"))"
      ],
      "execution_count": 42,
      "outputs": [
        {
          "output_type": "stream",
          "text": [
            "res:  [0. 0. 0. 0. 0. 0. 0. 0. 0. 0. 0. 0. 0. 0. 0. 0. 0. 0. 0. 0. 0. 0. 0. 0.\n",
            " 0. 0. 0. 1. 0. 0. 0. 0. 0. 0. 0. 0. 0. 0. 0. 0. 0. 0. 0. 0. 0. 0. 0. 0.\n",
            " 0. 0. 0. 0. 0. 0. 0. 0. 0. 0. 0. 0. 0. 0. 0. 0. 0. 0. 0. 0. 0. 0. 0. 0.\n",
            " 0. 0. 0. 0. 0. 0. 0. 0. 0. 0. 0. 0. 0. 0. 0. 0. 0. 0. 0. 0. 0. 0. 0. 0.\n",
            " 0. 0. 0. 0. 0. 0. 0. 0. 0. 0. 0. 0. 0. 0. 0. 0. 0. 0. 0. 0. 0. 0. 0. 0.\n",
            " 0. 0. 0. 0. 0. 0.]\n",
            "results:  [[0, 0.0], [1, 0.0], [2, 0.0], [3, 0.0], [4, 0.0], [5, 0.0], [6, 0.0], [7, 0.0], [8, 0.0], [9, 0.0], [10, 0.0], [11, 0.0], [12, 0.0], [13, 0.0], [14, 0.0], [15, 0.0], [16, 0.0], [17, 0.0], [18, 0.0], [19, 0.0], [20, 0.0], [21, 0.0], [22, 0.0], [23, 0.0], [24, 0.0], [25, 0.0], [26, 0.0], [27, 1.0], [28, 0.0], [29, 0.0], [30, 0.0], [31, 0.0], [32, 0.0], [33, 0.0], [34, 0.0], [35, 0.0], [36, 0.0], [37, 0.0], [38, 0.0], [39, 0.0], [40, 0.0], [41, 0.0], [42, 0.0], [43, 0.0], [44, 0.0], [45, 0.0], [46, 0.0], [47, 0.0], [48, 0.0], [49, 0.0], [50, 0.0], [51, 0.0], [52, 0.0], [53, 0.0], [54, 0.0], [55, 0.0], [56, 0.0], [57, 0.0], [58, 0.0], [59, 0.0], [60, 0.0], [61, 0.0], [62, 0.0], [63, 0.0], [64, 0.0], [65, 0.0], [66, 0.0], [67, 0.0], [68, 0.0], [69, 0.0], [70, 0.0], [71, 0.0], [72, 0.0], [73, 0.0], [74, 0.0], [75, 0.0], [76, 0.0], [77, 0.0], [78, 0.0], [79, 0.0], [80, 0.0], [81, 0.0], [82, 0.0], [83, 0.0], [84, 0.0], [85, 0.0], [86, 0.0], [87, 0.0], [88, 0.0], [89, 0.0], [90, 0.0], [91, 0.0], [92, 0.0], [93, 0.0], [94, 0.0], [95, 0.0], [96, 0.0], [97, 0.0], [98, 0.0], [99, 0.0], [100, 0.0], [101, 0.0], [102, 0.0], [103, 0.0], [104, 0.0], [105, 0.0], [106, 0.0], [107, 0.0], [108, 0.0], [109, 0.0], [110, 0.0], [111, 0.0], [112, 0.0], [113, 0.0], [114, 0.0], [115, 0.0], [116, 0.0], [117, 0.0], [118, 0.0], [119, 0.0], [120, 0.0], [121, 0.0], [122, 0.0], [123, 0.0], [124, 0.0], [125, 0.0]]\n",
            "[{'intent': 'certificates_and_documents', 'probability': '1.0'}, {'intent': '5WIP', 'probability': '0.0'}, {'intent': 'Biotech_branch', 'probability': '0.0'}, {'intent': 'CE_branch', 'probability': '0.0'}, {'intent': 'CSE_branch', 'probability': '0.0'}, {'intent': 'DSE_branch', 'probability': '0.0'}, {'intent': 'EE_branch', 'probability': '0.0'}, {'intent': 'EP_branch', 'probability': '0.0'}, {'intent': 'Exodia', 'probability': '0.0'}, {'intent': 'HnT', 'probability': '0.0'}, {'intent': 'How_to_reach_IITMANDI', 'probability': '0.0'}, {'intent': 'IITMANDI_for_girls', 'probability': '0.0'}, {'intent': 'IITMandi_vs_other_new_IITs', 'probability': '0.0'}, {'intent': 'IIT_Mandi_campus', 'probability': '0.0'}, {'intent': 'MCM_scholarships', 'probability': '0.0'}, {'intent': 'ME_branch', 'probability': '0.0'}, {'intent': 'MTB', 'probability': '0.0'}, {'intent': 'NSO', 'probability': '0.0'}, {'intent': 'NSS', 'probability': '0.0'}, {'intent': 'art_geeks', 'probability': '0.0'}, {'intent': 'atm_and_bank_facilities', 'probability': '0.0'}, {'intent': 'books', 'probability': '0.0'}, {'intent': 'branch_change_criterion', 'probability': '0.0'}, {'intent': 'branch_change_cutoff_cgpa', 'probability': '0.0'}, {'intent': 'bus_schedule_IITMandi', 'probability': '0.0'}, {'intent': 'campus_facilities', 'probability': '0.0'}, {'intent': 'campus_for_freshers', 'probability': '0.0'}, {'intent': 'canteens_facilities', 'probability': '0.0'}, {'intent': 'change_room', 'probability': '0.0'}, {'intent': 'cinema_hall', 'probability': '0.0'}, {'intent': 'class_commencement', 'probability': '0.0'}, {'intent': 'club_audition', 'probability': '0.0'}, {'intent': 'co_curricular', 'probability': '0.0'}, {'intent': 'coding_culture', 'probability': '0.0'}, {'intent': 'companies_for_placements', 'probability': '0.0'}, {'intent': 'cultural_clubs', 'probability': '0.0'}, {'intent': 'curriculum_Biotech', 'probability': '0.0'}, {'intent': 'curriculum_CE', 'probability': '0.0'}, {'intent': 'curriculum_CSE', 'probability': '0.0'}, {'intent': 'curriculum_DSE', 'probability': '0.0'}, {'intent': 'curriculum_EE', 'probability': '0.0'}, {'intent': 'curriculum_EP', 'probability': '0.0'}, {'intent': 'curriculum_ME', 'probability': '0.0'}, {'intent': 'curriculum_overall', 'probability': '0.0'}, {'intent': 'cycle', 'probability': '0.0'}, {'intent': 'dance_club', 'probability': '0.0'}, {'intent': 'debating_club', 'probability': '0.0'}, {'intent': 'drama_club', 'probability': '0.0'}, {'intent': 'e_cell', 'probability': '0.0'}, {'intent': 'education_loan', 'probability': '0.0'}, {'intent': 'elective_courses', 'probability': '0.0'}, {'intent': 'faculties', 'probability': '0.0'}, {'intent': 'family_memebers_stay', 'probability': '0.0'}, {'intent': 'famous_alumni', 'probability': '0.0'}, {'intent': 'fees', 'probability': '0.0'}, {'intent': 'festival_holiday', 'probability': '0.0'}, {'intent': 'festivals_celebration', 'probability': '0.0'}, {'intent': 'first_year_courses', 'probability': '0.0'}, {'intent': 'goodbye', 'probability': '0.0'}, {'intent': 'grading_system', 'probability': '0.0'}, {'intent': 'greeting', 'probability': '0.0'}, {'intent': 'guest_house', 'probability': '0.0'}, {'intent': 'gym_facilities', 'probability': '0.0'}, {'intent': 'heaters_allowed', 'probability': '0.0'}, {'intent': 'hostel_allotment', 'probability': '0.0'}, {'intent': 'hostel_facilities', 'probability': '0.0'}, {'intent': 'hostel_necessities', 'probability': '0.0'}, {'intent': 'hostel_rules', 'probability': '0.0'}, {'intent': 'hotels_for_stay', 'probability': '0.0'}, {'intent': 'images_campus', 'probability': '0.0'}, {'intent': 'images_hostels_rooms', 'probability': '0.0'}, {'intent': 'internet_facilities', 'probability': '0.0'}, {'intent': 'internship_scenerio', 'probability': '0.0'}, {'intent': 'jain_food', 'probability': '0.0'}, {'intent': 'labs_and_research', 'probability': '0.0'}, {'intent': 'laptop', 'probability': '0.0'}, {'intent': 'last_year_closing_ranks', 'probability': '0.0'}, {'intent': 'life_at_IITMandi', 'probability': '0.0'}, {'intent': 'list_of_required_items', 'probability': '0.0'}, {'intent': 'literary_society', 'probability': '0.0'}, {'intent': 'mandi_town', 'probability': '0.0'}, {'intent': 'map_IIT_Mandi', 'probability': '0.0'}, {'intent': 'mentor', 'probability': '0.0'}, {'intent': 'mess_food', 'probability': '0.0'}, {'intent': 'music_club', 'probability': '0.0'}, {'intent': 'network_sim', 'probability': '0.0'}, {'intent': 'nirmaan_club', 'probability': '0.0'}, {'intent': 'noanswer', 'probability': '0.0'}, {'intent': 'non_veg', 'probability': '0.0'}, {'intent': 'online_delivery', 'probability': '0.0'}, {'intent': 'options', 'probability': '0.0'}, {'intent': 'placement_BioTech', 'probability': '0.0'}, {'intent': 'placement_CE', 'probability': '0.0'}, {'intent': 'placement_CSE', 'probability': '0.0'}, {'intent': 'placement_DSE', 'probability': '0.0'}, {'intent': 'placement_EE', 'probability': '0.0'}, {'intent': 'placement_ME', 'probability': '0.0'}, {'intent': 'placement_overall', 'probability': '0.0'}, {'intent': 'placements_EP', 'probability': '0.0'}, {'intent': 'problem_contact', 'probability': '0.0'}, {'intent': 'programming_club', 'probability': '0.0'}, {'intent': 'pure_veg', 'probability': '0.0'}, {'intent': 'quizzing_club', 'probability': '0.0'}, {'intent': 'ragging', 'probability': '0.0'}, {'intent': 'ranneeti', 'probability': '0.0'}, {'intent': 'registration_day', 'probability': '0.0'}, {'intent': 'robotronics_club', 'probability': '0.0'}, {'intent': 'room_occupancy', 'probability': '0.0'}, {'intent': 'scientific_calculator', 'probability': '0.0'}, {'intent': 'seniors', 'probability': '0.0'}, {'intent': 'snow_iit_mandi', 'probability': '0.0'}, {'intent': 'soft_copy_of_documents', 'probability': '0.0'}, {'intent': 'sports', 'probability': '0.0'}, {'intent': 'stac', 'probability': '0.0'}, {'intent': 'swimming_pool_facilities', 'probability': '0.0'}, {'intent': 'tech_clubs', 'probability': '0.0'}, {'intent': 'thanks', 'probability': '0.0'}, {'intent': 'ug_pg_hostels_together', 'probability': '0.0'}, {'intent': 'unique_activities', 'probability': '0.0'}, {'intent': 'vacations', 'probability': '0.0'}, {'intent': 'weather_at_IITMandi', 'probability': '0.0'}, {'intent': 'which_laptop', 'probability': '0.0'}, {'intent': 'why_IITMANDI', 'probability': '0.0'}, {'intent': 'wild_animals', 'probability': '0.0'}, {'intent': 'writing_club', 'probability': '0.0'}, {'intent': 'yantric_club', 'probability': '0.0'}]\n",
            "BOT:  http://iitmandi.ac.in/gcs/JEE%202019%20Offer%20letter.pdf?fbclid=IwAR0eMjuxDUK6utTIzU7Xo0MLmjmJJslQnXCnrhqgRdd-CIrJktD06AvUVlc\n"
          ],
          "name": "stdout"
        }
      ]
    },
    {
      "cell_type": "code",
      "metadata": {
        "id": "kbVPScmNib4C",
        "colab_type": "code",
        "colab": {
          "base_uri": "https://localhost:8080/",
          "height": 552
        },
        "outputId": "07784be4-1553-424e-c0fd-54222c38ac2f"
      },
      "source": [
        "print(\"BOT: \", chatbot_response(\"how is hostel life\"))"
      ],
      "execution_count": 43,
      "outputs": [
        {
          "output_type": "stream",
          "text": [
            "res:  [0.0000000e+00 0.0000000e+00 0.0000000e+00 0.0000000e+00 0.0000000e+00\n",
            " 0.0000000e+00 0.0000000e+00 0.0000000e+00 0.0000000e+00 1.9635925e-12\n",
            " 0.0000000e+00 1.6781245e-16 2.1371305e-38 0.0000000e+00 0.0000000e+00\n",
            " 0.0000000e+00 0.0000000e+00 6.5409775e-29 0.0000000e+00 0.0000000e+00\n",
            " 0.0000000e+00 3.2447030e-32 0.0000000e+00 4.4275635e-24 0.0000000e+00\n",
            " 0.0000000e+00 0.0000000e+00 0.0000000e+00 0.0000000e+00 1.9607076e-15\n",
            " 0.0000000e+00 0.0000000e+00 0.0000000e+00 0.0000000e+00 0.0000000e+00\n",
            " 0.0000000e+00 2.5427233e-14 0.0000000e+00 0.0000000e+00 0.0000000e+00\n",
            " 0.0000000e+00 3.9970077e-33 0.0000000e+00 0.0000000e+00 0.0000000e+00\n",
            " 0.0000000e+00 1.3362492e-24 0.0000000e+00 0.0000000e+00 0.0000000e+00\n",
            " 0.0000000e+00 1.0950727e-14 0.0000000e+00 0.0000000e+00 8.5644281e-15\n",
            " 0.0000000e+00 0.0000000e+00 1.2371735e-23 0.0000000e+00 0.0000000e+00\n",
            " 0.0000000e+00 3.1216741e-17 0.0000000e+00 0.0000000e+00 0.0000000e+00\n",
            " 0.0000000e+00 0.0000000e+00 0.0000000e+00 0.0000000e+00 0.0000000e+00\n",
            " 0.0000000e+00 0.0000000e+00 0.0000000e+00 0.0000000e+00 0.0000000e+00\n",
            " 0.0000000e+00 0.0000000e+00 1.0000000e+00 0.0000000e+00 0.0000000e+00\n",
            " 1.6956712e-10 0.0000000e+00 0.0000000e+00 2.9616424e-13 0.0000000e+00\n",
            " 0.0000000e+00 3.1028029e-36 0.0000000e+00 0.0000000e+00 0.0000000e+00\n",
            " 3.4105541e-16 8.5785490e-31 0.0000000e+00 0.0000000e+00 0.0000000e+00\n",
            " 0.0000000e+00 0.0000000e+00 0.0000000e+00 0.0000000e+00 0.0000000e+00\n",
            " 0.0000000e+00 0.0000000e+00 1.0015540e-22 0.0000000e+00 1.8963143e-29\n",
            " 0.0000000e+00 0.0000000e+00 0.0000000e+00 0.0000000e+00 0.0000000e+00\n",
            " 0.0000000e+00 0.0000000e+00 0.0000000e+00 0.0000000e+00 0.0000000e+00\n",
            " 1.2081935e-35 1.0812611e-24 0.0000000e+00 0.0000000e+00 0.0000000e+00\n",
            " 1.9845758e-31 0.0000000e+00 1.1580960e-24 1.2352919e-08 0.0000000e+00\n",
            " 6.4277324e-31]\n",
            "results:  [[0, 0.0], [1, 0.0], [2, 0.0], [3, 0.0], [4, 0.0], [5, 0.0], [6, 0.0], [7, 0.0], [8, 0.0], [9, 1.9635925e-12], [10, 0.0], [11, 1.6781245e-16], [12, 2.1371305e-38], [13, 0.0], [14, 0.0], [15, 0.0], [16, 0.0], [17, 6.5409775e-29], [18, 0.0], [19, 0.0], [20, 0.0], [21, 3.244703e-32], [22, 0.0], [23, 4.4275635e-24], [24, 0.0], [25, 0.0], [26, 0.0], [27, 0.0], [28, 0.0], [29, 1.9607076e-15], [30, 0.0], [31, 0.0], [32, 0.0], [33, 0.0], [34, 0.0], [35, 0.0], [36, 2.5427233e-14], [37, 0.0], [38, 0.0], [39, 0.0], [40, 0.0], [41, 3.9970077e-33], [42, 0.0], [43, 0.0], [44, 0.0], [45, 0.0], [46, 1.3362492e-24], [47, 0.0], [48, 0.0], [49, 0.0], [50, 0.0], [51, 1.0950727e-14], [52, 0.0], [53, 0.0], [54, 8.564428e-15], [55, 0.0], [56, 0.0], [57, 1.2371735e-23], [58, 0.0], [59, 0.0], [60, 0.0], [61, 3.121674e-17], [62, 0.0], [63, 0.0], [64, 0.0], [65, 0.0], [66, 0.0], [67, 0.0], [68, 0.0], [69, 0.0], [70, 0.0], [71, 0.0], [72, 0.0], [73, 0.0], [74, 0.0], [75, 0.0], [76, 0.0], [77, 1.0], [78, 0.0], [79, 0.0], [80, 1.6956712e-10], [81, 0.0], [82, 0.0], [83, 2.9616424e-13], [84, 0.0], [85, 0.0], [86, 3.102803e-36], [87, 0.0], [88, 0.0], [89, 0.0], [90, 3.410554e-16], [91, 8.578549e-31], [92, 0.0], [93, 0.0], [94, 0.0], [95, 0.0], [96, 0.0], [97, 0.0], [98, 0.0], [99, 0.0], [100, 0.0], [101, 0.0], [102, 1.001554e-22], [103, 0.0], [104, 1.8963143e-29], [105, 0.0], [106, 0.0], [107, 0.0], [108, 0.0], [109, 0.0], [110, 0.0], [111, 0.0], [112, 0.0], [113, 0.0], [114, 0.0], [115, 1.2081935e-35], [116, 1.0812611e-24], [117, 0.0], [118, 0.0], [119, 0.0], [120, 1.9845758e-31], [121, 0.0], [122, 1.158096e-24], [123, 1.2352919e-08], [124, 0.0], [125, 6.4277324e-31]]\n",
            "[{'intent': 'life_at_IITMandi', 'probability': '1.0'}, {'intent': 'wild_animals', 'probability': '1.2352919e-08'}, {'intent': 'mandi_town', 'probability': '1.6956712e-10'}, {'intent': 'How_to_reach_IITMANDI', 'probability': '1.9635925e-12'}, {'intent': 'mess_food', 'probability': '2.9616424e-13'}, {'intent': 'curriculum_Biotech', 'probability': '2.5427233e-14'}, {'intent': 'faculties', 'probability': '1.0950727e-14'}, {'intent': 'fees', 'probability': '8.564428e-15'}, {'intent': 'cinema_hall', 'probability': '1.9607076e-15'}, {'intent': 'options', 'probability': '3.410554e-16'}, {'intent': 'IITMandi_vs_other_new_IITs', 'probability': '1.6781245e-16'}, {'intent': 'guest_house', 'probability': '3.121674e-17'}, {'intent': 'quizzing_club', 'probability': '1.001554e-22'}, {'intent': 'first_year_courses', 'probability': '1.2371735e-23'}, {'intent': 'bus_schedule_IITMandi', 'probability': '4.4275635e-24'}, {'intent': 'debating_club', 'probability': '1.3362492e-24'}, {'intent': 'why_IITMANDI', 'probability': '1.158096e-24'}, {'intent': 'thanks', 'probability': '1.0812611e-24'}, {'intent': 'NSS', 'probability': '6.5409775e-29'}, {'intent': 'ranneeti', 'probability': '1.8963143e-29'}, {'intent': 'placement_BioTech', 'probability': '8.578549e-31'}, {'intent': 'yantric_club', 'probability': '6.4277324e-31'}, {'intent': 'weather_at_IITMandi', 'probability': '1.9845758e-31'}, {'intent': 'branch_change_criterion', 'probability': '3.244703e-32'}, {'intent': 'curriculum_EP', 'probability': '3.9970077e-33'}, {'intent': 'tech_clubs', 'probability': '1.2081935e-35'}, {'intent': 'nirmaan_club', 'probability': '3.102803e-36'}, {'intent': 'IIT_Mandi_campus', 'probability': '2.1371305e-38'}, {'intent': '5WIP', 'probability': '0.0'}, {'intent': 'Biotech_branch', 'probability': '0.0'}, {'intent': 'CE_branch', 'probability': '0.0'}, {'intent': 'CSE_branch', 'probability': '0.0'}, {'intent': 'DSE_branch', 'probability': '0.0'}, {'intent': 'EE_branch', 'probability': '0.0'}, {'intent': 'EP_branch', 'probability': '0.0'}, {'intent': 'Exodia', 'probability': '0.0'}, {'intent': 'HnT', 'probability': '0.0'}, {'intent': 'IITMANDI_for_girls', 'probability': '0.0'}, {'intent': 'MCM_scholarships', 'probability': '0.0'}, {'intent': 'ME_branch', 'probability': '0.0'}, {'intent': 'MTB', 'probability': '0.0'}, {'intent': 'NSO', 'probability': '0.0'}, {'intent': 'art_geeks', 'probability': '0.0'}, {'intent': 'atm_and_bank_facilities', 'probability': '0.0'}, {'intent': 'books', 'probability': '0.0'}, {'intent': 'branch_change_cutoff_cgpa', 'probability': '0.0'}, {'intent': 'campus_facilities', 'probability': '0.0'}, {'intent': 'campus_for_freshers', 'probability': '0.0'}, {'intent': 'canteens_facilities', 'probability': '0.0'}, {'intent': 'certificates_and_documents', 'probability': '0.0'}, {'intent': 'change_room', 'probability': '0.0'}, {'intent': 'class_commencement', 'probability': '0.0'}, {'intent': 'club_audition', 'probability': '0.0'}, {'intent': 'co_curricular', 'probability': '0.0'}, {'intent': 'coding_culture', 'probability': '0.0'}, {'intent': 'companies_for_placements', 'probability': '0.0'}, {'intent': 'cultural_clubs', 'probability': '0.0'}, {'intent': 'curriculum_CE', 'probability': '0.0'}, {'intent': 'curriculum_CSE', 'probability': '0.0'}, {'intent': 'curriculum_DSE', 'probability': '0.0'}, {'intent': 'curriculum_EE', 'probability': '0.0'}, {'intent': 'curriculum_ME', 'probability': '0.0'}, {'intent': 'curriculum_overall', 'probability': '0.0'}, {'intent': 'cycle', 'probability': '0.0'}, {'intent': 'dance_club', 'probability': '0.0'}, {'intent': 'drama_club', 'probability': '0.0'}, {'intent': 'e_cell', 'probability': '0.0'}, {'intent': 'education_loan', 'probability': '0.0'}, {'intent': 'elective_courses', 'probability': '0.0'}, {'intent': 'family_memebers_stay', 'probability': '0.0'}, {'intent': 'famous_alumni', 'probability': '0.0'}, {'intent': 'festival_holiday', 'probability': '0.0'}, {'intent': 'festivals_celebration', 'probability': '0.0'}, {'intent': 'goodbye', 'probability': '0.0'}, {'intent': 'grading_system', 'probability': '0.0'}, {'intent': 'greeting', 'probability': '0.0'}, {'intent': 'gym_facilities', 'probability': '0.0'}, {'intent': 'heaters_allowed', 'probability': '0.0'}, {'intent': 'hostel_allotment', 'probability': '0.0'}, {'intent': 'hostel_facilities', 'probability': '0.0'}, {'intent': 'hostel_necessities', 'probability': '0.0'}, {'intent': 'hostel_rules', 'probability': '0.0'}, {'intent': 'hotels_for_stay', 'probability': '0.0'}, {'intent': 'images_campus', 'probability': '0.0'}, {'intent': 'images_hostels_rooms', 'probability': '0.0'}, {'intent': 'internet_facilities', 'probability': '0.0'}, {'intent': 'internship_scenerio', 'probability': '0.0'}, {'intent': 'jain_food', 'probability': '0.0'}, {'intent': 'labs_and_research', 'probability': '0.0'}, {'intent': 'laptop', 'probability': '0.0'}, {'intent': 'last_year_closing_ranks', 'probability': '0.0'}, {'intent': 'list_of_required_items', 'probability': '0.0'}, {'intent': 'literary_society', 'probability': '0.0'}, {'intent': 'map_IIT_Mandi', 'probability': '0.0'}, {'intent': 'mentor', 'probability': '0.0'}, {'intent': 'music_club', 'probability': '0.0'}, {'intent': 'network_sim', 'probability': '0.0'}, {'intent': 'noanswer', 'probability': '0.0'}, {'intent': 'non_veg', 'probability': '0.0'}, {'intent': 'online_delivery', 'probability': '0.0'}, {'intent': 'placement_CE', 'probability': '0.0'}, {'intent': 'placement_CSE', 'probability': '0.0'}, {'intent': 'placement_DSE', 'probability': '0.0'}, {'intent': 'placement_EE', 'probability': '0.0'}, {'intent': 'placement_ME', 'probability': '0.0'}, {'intent': 'placement_overall', 'probability': '0.0'}, {'intent': 'placements_EP', 'probability': '0.0'}, {'intent': 'problem_contact', 'probability': '0.0'}, {'intent': 'programming_club', 'probability': '0.0'}, {'intent': 'pure_veg', 'probability': '0.0'}, {'intent': 'ragging', 'probability': '0.0'}, {'intent': 'registration_day', 'probability': '0.0'}, {'intent': 'robotronics_club', 'probability': '0.0'}, {'intent': 'room_occupancy', 'probability': '0.0'}, {'intent': 'scientific_calculator', 'probability': '0.0'}, {'intent': 'seniors', 'probability': '0.0'}, {'intent': 'snow_iit_mandi', 'probability': '0.0'}, {'intent': 'soft_copy_of_documents', 'probability': '0.0'}, {'intent': 'sports', 'probability': '0.0'}, {'intent': 'stac', 'probability': '0.0'}, {'intent': 'swimming_pool_facilities', 'probability': '0.0'}, {'intent': 'ug_pg_hostels_together', 'probability': '0.0'}, {'intent': 'unique_activities', 'probability': '0.0'}, {'intent': 'vacations', 'probability': '0.0'}, {'intent': 'which_laptop', 'probability': '0.0'}, {'intent': 'writing_club', 'probability': '0.0'}]\n",
            "BOT:  life_at_IITMandi (response is yet to be written!)\n"
          ],
          "name": "stdout"
        }
      ]
    },
    {
      "cell_type": "code",
      "metadata": {
        "id": "rVuOUaCdiici",
        "colab_type": "code",
        "colab": {
          "base_uri": "https://localhost:8080/",
          "height": 659
        },
        "outputId": "250d048c-3b49-4596-c784-faeac3ac5a1a"
      },
      "source": [
        "print(\"BOT: \", chatbot_response(\"what subjects are taught in first year\"))"
      ],
      "execution_count": 44,
      "outputs": [
        {
          "output_type": "stream",
          "text": [
            "res:  [9.33074430e-02 5.68403921e-05 2.90882512e-04 4.15888098e-05\n",
            " 1.27132489e-05 2.06339482e-05 1.83218555e-03 9.21677100e-04\n",
            " 5.75283411e-05 1.33031256e-06 1.44292908e-05 8.96394886e-06\n",
            " 3.00027221e-03 6.91765599e-05 2.48796805e-05 1.00293232e-06\n",
            " 1.84125543e-04 5.75386337e-04 1.30203218e-04 9.72958696e-06\n",
            " 2.88454685e-05 1.55305463e-10 6.96423667e-05 3.00921738e-06\n",
            " 1.80374234e-04 3.80464712e-07 3.34978577e-05 9.27615929e-10\n",
            " 2.76588048e-06 4.68786852e-03 6.27208576e-02 2.47252938e-05\n",
            " 2.22292110e-05 8.81239423e-04 1.50544191e-04 7.37848095e-05\n",
            " 5.09770834e-05 1.68286783e-06 2.17533423e-04 8.63833411e-04\n",
            " 5.73033540e-05 1.46024500e-03 7.85436016e-04 1.41766228e-04\n",
            " 9.78250057e-02 1.79162143e-05 2.25929618e-02 1.46633975e-05\n",
            " 5.96994497e-02 1.38225450e-05 2.83281338e-06 2.00827084e-02\n",
            " 7.83120322e-06 5.71695454e-02 1.19227572e-09 6.98054419e-06\n",
            " 6.48187182e-04 4.67449799e-03 1.56265183e-03 1.43913740e-05\n",
            " 4.17018402e-03 5.32577644e-07 7.73561696e-05 2.77796516e-05\n",
            " 6.67012409e-06 4.05236142e-06 6.09139579e-06 2.89505397e-06\n",
            " 4.59152616e-05 6.02795929e-03 3.43980446e-06 1.09784502e-04\n",
            " 4.87284549e-03 9.68664699e-06 5.33939339e-04 3.52505734e-03\n",
            " 1.11521004e-07 3.70931476e-02 6.52827475e-06 6.68946814e-05\n",
            " 1.42828271e-01 6.59562211e-05 6.43900828e-04 2.02085776e-03\n",
            " 6.43636758e-06 2.32915255e-07 3.75095224e-05 6.05741188e-05\n",
            " 2.09445320e-03 2.09325071e-06 1.91245577e-04 1.26431041e-04\n",
            " 8.32726982e-06 4.87121695e-04 1.63010955e-05 2.12847153e-05\n",
            " 1.21989979e-06 6.86031126e-06 5.68884949e-04 2.76561277e-05\n",
            " 2.82595065e-05 1.72524469e-05 1.21341407e-01 6.64100662e-05\n",
            " 2.14637199e-04 3.51666249e-02 2.03913587e-05 1.56520414e-08\n",
            " 7.17656003e-05 2.48222699e-04 3.39997304e-03 1.86035868e-05\n",
            " 6.86683133e-02 6.45837135e-05 1.07873939e-05 5.52277343e-05\n",
            " 4.02730220e-05 4.86971157e-06 6.20881383e-06 1.18387170e-01\n",
            " 3.72117684e-05 1.03964976e-05 8.73213168e-04 7.77787901e-03\n",
            " 1.17864955e-04 1.92950785e-04]\n",
            "results:  [[0, 0.09330744], [1, 5.6840392e-05], [2, 0.0002908825], [3, 4.158881e-05], [4, 1.2713249e-05], [5, 2.0633948e-05], [6, 0.0018321855], [7, 0.0009216771], [8, 5.752834e-05], [9, 1.3303126e-06], [10, 1.4429291e-05], [11, 8.963949e-06], [12, 0.0030002722], [13, 6.917656e-05], [14, 2.487968e-05], [15, 1.0029323e-06], [16, 0.00018412554], [17, 0.00057538634], [18, 0.00013020322], [19, 9.729587e-06], [20, 2.8845468e-05], [21, 1.5530546e-10], [22, 6.964237e-05], [23, 3.0092174e-06], [24, 0.00018037423], [25, 3.804647e-07], [26, 3.3497858e-05], [27, 9.2761593e-10], [28, 2.7658805e-06], [29, 0.0046878685], [30, 0.06272086], [31, 2.4725294e-05], [32, 2.2229211e-05], [33, 0.0008812394], [34, 0.00015054419], [35, 7.378481e-05], [36, 5.0977083e-05], [37, 1.6828678e-06], [38, 0.00021753342], [39, 0.0008638334], [40, 5.7303354e-05], [41, 0.001460245], [42, 0.000785436], [43, 0.00014176623], [44, 0.097825006], [45, 1.7916214e-05], [46, 0.022592962], [47, 1.4663397e-05], [48, 0.05969945], [49, 1.3822545e-05], [50, 2.8328134e-06], [51, 0.020082708], [52, 7.831203e-06], [53, 0.057169545], [54, 1.1922757e-09], [55, 6.980544e-06], [56, 0.0006481872], [57, 0.004674498], [58, 0.0015626518], [59, 1.4391374e-05], [60, 0.004170184], [61, 5.3257764e-07], [62, 7.735617e-05], [63, 2.7779652e-05], [64, 6.670124e-06], [65, 4.0523614e-06], [66, 6.091396e-06], [67, 2.895054e-06], [68, 4.591526e-05], [69, 0.0060279593], [70, 3.4398045e-06], [71, 0.0001097845], [72, 0.0048728455], [73, 9.686647e-06], [74, 0.00053393934], [75, 0.0035250573], [76, 1.11521004e-07], [77, 0.037093148], [78, 6.5282748e-06], [79, 6.689468e-05], [80, 0.14282827], [81, 6.595622e-05], [82, 0.0006439008], [83, 0.0020208578], [84, 6.4363676e-06], [85, 2.3291526e-07], [86, 3.7509522e-05], [87, 6.057412e-05], [88, 0.0020944532], [89, 2.0932507e-06], [90, 0.00019124558], [91, 0.00012643104], [92, 8.32727e-06], [93, 0.0004871217], [94, 1.6301095e-05], [95, 2.1284715e-05], [96, 1.2198998e-06], [97, 6.8603113e-06], [98, 0.00056888495], [99, 2.7656128e-05], [100, 2.8259507e-05], [101, 1.7252447e-05], [102, 0.12134141], [103, 6.6410066e-05], [104, 0.0002146372], [105, 0.035166625], [106, 2.0391359e-05], [107, 1.5652041e-08], [108, 7.17656e-05], [109, 0.0002482227], [110, 0.003399973], [111, 1.8603587e-05], [112, 0.06866831], [113, 6.458371e-05], [114, 1.0787394e-05], [115, 5.5227734e-05], [116, 4.0273022e-05], [117, 4.8697116e-06], [118, 6.208814e-06], [119, 0.11838717], [120, 3.721177e-05], [121, 1.0396498e-05], [122, 0.00087321317], [123, 0.007777879], [124, 0.000117864955], [125, 0.00019295079]]\n",
            "[{'intent': 'mandi_town', 'probability': '0.14282827'}, {'intent': 'quizzing_club', 'probability': '0.12134141'}, {'intent': 'vacations', 'probability': '0.11838717'}, {'intent': 'cycle', 'probability': '0.097825006'}, {'intent': '5WIP', 'probability': '0.09330744'}, {'intent': 'sports', 'probability': '0.06866831'}, {'intent': 'class_commencement', 'probability': '0.06272086'}, {'intent': 'e_cell', 'probability': '0.05969945'}, {'intent': 'famous_alumni', 'probability': '0.057169545'}, {'intent': 'life_at_IITMandi', 'probability': '0.037093148'}, {'intent': 'registration_day', 'probability': '0.035166625'}, {'intent': 'debating_club', 'probability': '0.022592962'}, {'intent': 'faculties', 'probability': '0.020082708'}, {'intent': 'wild_animals', 'probability': '0.007777879'}, {'intent': 'images_campus', 'probability': '0.0060279593'}, {'intent': 'internship_scenerio', 'probability': '0.0048728455'}, {'intent': 'cinema_hall', 'probability': '0.0046878685'}, {'intent': 'first_year_courses', 'probability': '0.004674498'}, {'intent': 'greeting', 'probability': '0.004170184'}, {'intent': 'laptop', 'probability': '0.0035250573'}, {'intent': 'snow_iit_mandi', 'probability': '0.003399973'}, {'intent': 'IIT_Mandi_campus', 'probability': '0.0030002722'}, {'intent': 'non_veg', 'probability': '0.0020944532'}, {'intent': 'mess_food', 'probability': '0.0020208578'}, {'intent': 'EP_branch', 'probability': '0.0018321855'}, {'intent': 'goodbye', 'probability': '0.0015626518'}, {'intent': 'curriculum_EP', 'probability': '0.001460245'}, {'intent': 'Exodia', 'probability': '0.0009216771'}, {'intent': 'coding_culture', 'probability': '0.0008812394'}, {'intent': 'why_IITMANDI', 'probability': '0.00087321317'}, {'intent': 'curriculum_DSE', 'probability': '0.0008638334'}, {'intent': 'curriculum_ME', 'probability': '0.000785436'}, {'intent': 'festivals_celebration', 'probability': '0.0006481872'}, {'intent': 'mentor', 'probability': '0.0006439008'}, {'intent': 'NSS', 'probability': '0.00057538634'}, {'intent': 'placements_EP', 'probability': '0.00056888495'}, {'intent': 'labs_and_research', 'probability': '0.00053393934'}, {'intent': 'placement_CSE', 'probability': '0.0004871217'}, {'intent': 'CE_branch', 'probability': '0.0002908825'}, {'intent': 'seniors', 'probability': '0.0002482227'}, {'intent': 'curriculum_CSE', 'probability': '0.00021753342'}, {'intent': 'ranneeti', 'probability': '0.0002146372'}, {'intent': 'yantric_club', 'probability': '0.00019295079'}, {'intent': 'options', 'probability': '0.00019124558'}, {'intent': 'NSO', 'probability': '0.00018412554'}, {'intent': 'campus_facilities', 'probability': '0.00018037423'}, {'intent': 'companies_for_placements', 'probability': '0.00015054419'}, {'intent': 'curriculum_overall', 'probability': '0.00014176623'}, {'intent': 'art_geeks', 'probability': '0.00013020322'}, {'intent': 'placement_BioTech', 'probability': '0.00012643104'}, {'intent': 'writing_club', 'probability': '0.000117864955'}, {'intent': 'internet_facilities', 'probability': '0.0001097845'}, {'intent': 'gym_facilities', 'probability': '7.735617e-05'}, {'intent': 'cultural_clubs', 'probability': '7.378481e-05'}, {'intent': 'scientific_calculator', 'probability': '7.17656e-05'}, {'intent': 'branch_change_cutoff_cgpa', 'probability': '6.964237e-05'}, {'intent': 'MCM_scholarships', 'probability': '6.917656e-05'}, {'intent': 'literary_society', 'probability': '6.689468e-05'}, {'intent': 'ragging', 'probability': '6.6410066e-05'}, {'intent': 'map_IIT_Mandi', 'probability': '6.595622e-05'}, {'intent': 'stac', 'probability': '6.458371e-05'}, {'intent': 'noanswer', 'probability': '6.057412e-05'}, {'intent': 'HnT', 'probability': '5.752834e-05'}, {'intent': 'curriculum_EE', 'probability': '5.7303354e-05'}, {'intent': 'Biotech_branch', 'probability': '5.6840392e-05'}, {'intent': 'tech_clubs', 'probability': '5.5227734e-05'}, {'intent': 'curriculum_Biotech', 'probability': '5.0977083e-05'}, {'intent': 'hotels_for_stay', 'probability': '4.591526e-05'}, {'intent': 'CSE_branch', 'probability': '4.158881e-05'}, {'intent': 'thanks', 'probability': '4.0273022e-05'}, {'intent': 'nirmaan_club', 'probability': '3.7509522e-05'}, {'intent': 'weather_at_IITMandi', 'probability': '3.721177e-05'}, {'intent': 'canteens_facilities', 'probability': '3.3497858e-05'}, {'intent': 'books', 'probability': '2.8845468e-05'}, {'intent': 'programming_club', 'probability': '2.8259507e-05'}, {'intent': 'heaters_allowed', 'probability': '2.7779652e-05'}, {'intent': 'problem_contact', 'probability': '2.7656128e-05'}, {'intent': 'ME_branch', 'probability': '2.487968e-05'}, {'intent': 'club_audition', 'probability': '2.4725294e-05'}, {'intent': 'co_curricular', 'probability': '2.2229211e-05'}, {'intent': 'placement_EE', 'probability': '2.1284715e-05'}, {'intent': 'EE_branch', 'probability': '2.0633948e-05'}, {'intent': 'robotronics_club', 'probability': '2.0391359e-05'}, {'intent': 'soft_copy_of_documents', 'probability': '1.8603587e-05'}, {'intent': 'dance_club', 'probability': '1.7916214e-05'}, {'intent': 'pure_veg', 'probability': '1.7252447e-05'}, {'intent': 'placement_DSE', 'probability': '1.6301095e-05'}, {'intent': 'drama_club', 'probability': '1.4663397e-05'}, {'intent': 'IITMANDI_for_girls', 'probability': '1.4429291e-05'}, {'intent': 'grading_system', 'probability': '1.4391374e-05'}, {'intent': 'education_loan', 'probability': '1.3822545e-05'}, {'intent': 'DSE_branch', 'probability': '1.2713249e-05'}, {'intent': 'swimming_pool_facilities', 'probability': '1.0787394e-05'}, {'intent': 'which_laptop', 'probability': '1.0396498e-05'}, {'intent': 'atm_and_bank_facilities', 'probability': '9.729587e-06'}, {'intent': 'jain_food', 'probability': '9.686647e-06'}, {'intent': 'IITMandi_vs_other_new_IITs', 'probability': '8.963949e-06'}, {'intent': 'placement_CE', 'probability': '8.32727e-06'}, {'intent': 'family_memebers_stay', 'probability': '7.831203e-06'}, {'intent': 'festival_holiday', 'probability': '6.980544e-06'}, {'intent': 'placement_overall', 'probability': '6.8603113e-06'}, {'intent': 'hostel_allotment', 'probability': '6.670124e-06'}, {'intent': 'list_of_required_items', 'probability': '6.5282748e-06'}, {'intent': 'music_club', 'probability': '6.4363676e-06'}, {'intent': 'unique_activities', 'probability': '6.208814e-06'}, {'intent': 'hostel_necessities', 'probability': '6.091396e-06'}, {'intent': 'ug_pg_hostels_together', 'probability': '4.8697116e-06'}, {'intent': 'hostel_facilities', 'probability': '4.0523614e-06'}, {'intent': 'images_hostels_rooms', 'probability': '3.4398045e-06'}, {'intent': 'bus_schedule_IITMandi', 'probability': '3.0092174e-06'}, {'intent': 'hostel_rules', 'probability': '2.895054e-06'}, {'intent': 'elective_courses', 'probability': '2.8328134e-06'}, {'intent': 'change_room', 'probability': '2.7658805e-06'}, {'intent': 'online_delivery', 'probability': '2.0932507e-06'}, {'intent': 'curriculum_CE', 'probability': '1.6828678e-06'}, {'intent': 'How_to_reach_IITMANDI', 'probability': '1.3303126e-06'}, {'intent': 'placement_ME', 'probability': '1.2198998e-06'}, {'intent': 'MTB', 'probability': '1.0029323e-06'}, {'intent': 'guest_house', 'probability': '5.3257764e-07'}, {'intent': 'campus_for_freshers', 'probability': '3.804647e-07'}, {'intent': 'network_sim', 'probability': '2.3291526e-07'}, {'intent': 'last_year_closing_ranks', 'probability': '1.11521004e-07'}, {'intent': 'room_occupancy', 'probability': '1.5652041e-08'}, {'intent': 'fees', 'probability': '1.1922757e-09'}, {'intent': 'certificates_and_documents', 'probability': '9.2761593e-10'}, {'intent': 'branch_change_criterion', 'probability': '1.5530546e-10'}]\n",
            "BOT:  Mandi has a fairly good market, which can provide you with almost anything. Hotels like Raj Mahal, Regent Palms, Treat are good for dinners. Dominos, Raman Bakers, Daily Dose Cafe, Sai Sweets have their share of fast food fanatics. Indira Market, built around a sunken lake, - the Mandi version of a super mall - is a delightful place for making little discoveries.\n"
          ],
          "name": "stdout"
        }
      ]
    },
    {
      "cell_type": "code",
      "metadata": {
        "id": "qpfXlJ0qirtb",
        "colab_type": "code",
        "colab": {
          "base_uri": "https://localhost:8080/",
          "height": 677
        },
        "outputId": "4bd286df-93af-4d2b-e212-44074a1beb82"
      },
      "source": [
        "print(\"BOT: \", chatbot_response(\"what was branch change cutoff last year\"))"
      ],
      "execution_count": 45,
      "outputs": [
        {
          "output_type": "stream",
          "text": [
            "res:  [0.00000000e+00 0.00000000e+00 0.00000000e+00 0.00000000e+00\n",
            " 0.00000000e+00 0.00000000e+00 0.00000000e+00 0.00000000e+00\n",
            " 0.00000000e+00 0.00000000e+00 0.00000000e+00 0.00000000e+00\n",
            " 0.00000000e+00 0.00000000e+00 0.00000000e+00 0.00000000e+00\n",
            " 0.00000000e+00 0.00000000e+00 0.00000000e+00 0.00000000e+00\n",
            " 0.00000000e+00 1.00000000e+00 0.00000000e+00 0.00000000e+00\n",
            " 0.00000000e+00 0.00000000e+00 0.00000000e+00 0.00000000e+00\n",
            " 0.00000000e+00 0.00000000e+00 0.00000000e+00 0.00000000e+00\n",
            " 0.00000000e+00 0.00000000e+00 0.00000000e+00 0.00000000e+00\n",
            " 1.07951225e-19 0.00000000e+00 0.00000000e+00 0.00000000e+00\n",
            " 0.00000000e+00 0.00000000e+00 0.00000000e+00 0.00000000e+00\n",
            " 0.00000000e+00 0.00000000e+00 0.00000000e+00 0.00000000e+00\n",
            " 0.00000000e+00 0.00000000e+00 0.00000000e+00 0.00000000e+00\n",
            " 0.00000000e+00 0.00000000e+00 0.00000000e+00 0.00000000e+00\n",
            " 0.00000000e+00 0.00000000e+00 0.00000000e+00 0.00000000e+00\n",
            " 0.00000000e+00 0.00000000e+00 0.00000000e+00 0.00000000e+00\n",
            " 0.00000000e+00 0.00000000e+00 0.00000000e+00 0.00000000e+00\n",
            " 0.00000000e+00 0.00000000e+00 0.00000000e+00 0.00000000e+00\n",
            " 0.00000000e+00 0.00000000e+00 0.00000000e+00 0.00000000e+00\n",
            " 0.00000000e+00 0.00000000e+00 0.00000000e+00 0.00000000e+00\n",
            " 0.00000000e+00 0.00000000e+00 0.00000000e+00 0.00000000e+00\n",
            " 0.00000000e+00 0.00000000e+00 0.00000000e+00 0.00000000e+00\n",
            " 0.00000000e+00 0.00000000e+00 0.00000000e+00 1.68609442e-23\n",
            " 0.00000000e+00 0.00000000e+00 0.00000000e+00 0.00000000e+00\n",
            " 0.00000000e+00 0.00000000e+00 0.00000000e+00 0.00000000e+00\n",
            " 0.00000000e+00 0.00000000e+00 0.00000000e+00 0.00000000e+00\n",
            " 0.00000000e+00 0.00000000e+00 0.00000000e+00 0.00000000e+00\n",
            " 0.00000000e+00 0.00000000e+00 0.00000000e+00 0.00000000e+00\n",
            " 0.00000000e+00 0.00000000e+00 0.00000000e+00 0.00000000e+00\n",
            " 0.00000000e+00 0.00000000e+00 0.00000000e+00 0.00000000e+00\n",
            " 1.33535265e-31 0.00000000e+00 0.00000000e+00 0.00000000e+00\n",
            " 0.00000000e+00 0.00000000e+00]\n",
            "results:  [[0, 0.0], [1, 0.0], [2, 0.0], [3, 0.0], [4, 0.0], [5, 0.0], [6, 0.0], [7, 0.0], [8, 0.0], [9, 0.0], [10, 0.0], [11, 0.0], [12, 0.0], [13, 0.0], [14, 0.0], [15, 0.0], [16, 0.0], [17, 0.0], [18, 0.0], [19, 0.0], [20, 0.0], [21, 1.0], [22, 0.0], [23, 0.0], [24, 0.0], [25, 0.0], [26, 0.0], [27, 0.0], [28, 0.0], [29, 0.0], [30, 0.0], [31, 0.0], [32, 0.0], [33, 0.0], [34, 0.0], [35, 0.0], [36, 1.07951225e-19], [37, 0.0], [38, 0.0], [39, 0.0], [40, 0.0], [41, 0.0], [42, 0.0], [43, 0.0], [44, 0.0], [45, 0.0], [46, 0.0], [47, 0.0], [48, 0.0], [49, 0.0], [50, 0.0], [51, 0.0], [52, 0.0], [53, 0.0], [54, 0.0], [55, 0.0], [56, 0.0], [57, 0.0], [58, 0.0], [59, 0.0], [60, 0.0], [61, 0.0], [62, 0.0], [63, 0.0], [64, 0.0], [65, 0.0], [66, 0.0], [67, 0.0], [68, 0.0], [69, 0.0], [70, 0.0], [71, 0.0], [72, 0.0], [73, 0.0], [74, 0.0], [75, 0.0], [76, 0.0], [77, 0.0], [78, 0.0], [79, 0.0], [80, 0.0], [81, 0.0], [82, 0.0], [83, 0.0], [84, 0.0], [85, 0.0], [86, 0.0], [87, 0.0], [88, 0.0], [89, 0.0], [90, 0.0], [91, 1.6860944e-23], [92, 0.0], [93, 0.0], [94, 0.0], [95, 0.0], [96, 0.0], [97, 0.0], [98, 0.0], [99, 0.0], [100, 0.0], [101, 0.0], [102, 0.0], [103, 0.0], [104, 0.0], [105, 0.0], [106, 0.0], [107, 0.0], [108, 0.0], [109, 0.0], [110, 0.0], [111, 0.0], [112, 0.0], [113, 0.0], [114, 0.0], [115, 0.0], [116, 0.0], [117, 0.0], [118, 0.0], [119, 0.0], [120, 1.3353526e-31], [121, 0.0], [122, 0.0], [123, 0.0], [124, 0.0], [125, 0.0]]\n",
            "[{'intent': 'branch_change_criterion', 'probability': '1.0'}, {'intent': 'curriculum_Biotech', 'probability': '1.07951225e-19'}, {'intent': 'placement_BioTech', 'probability': '1.6860944e-23'}, {'intent': 'weather_at_IITMandi', 'probability': '1.3353526e-31'}, {'intent': '5WIP', 'probability': '0.0'}, {'intent': 'Biotech_branch', 'probability': '0.0'}, {'intent': 'CE_branch', 'probability': '0.0'}, {'intent': 'CSE_branch', 'probability': '0.0'}, {'intent': 'DSE_branch', 'probability': '0.0'}, {'intent': 'EE_branch', 'probability': '0.0'}, {'intent': 'EP_branch', 'probability': '0.0'}, {'intent': 'Exodia', 'probability': '0.0'}, {'intent': 'HnT', 'probability': '0.0'}, {'intent': 'How_to_reach_IITMANDI', 'probability': '0.0'}, {'intent': 'IITMANDI_for_girls', 'probability': '0.0'}, {'intent': 'IITMandi_vs_other_new_IITs', 'probability': '0.0'}, {'intent': 'IIT_Mandi_campus', 'probability': '0.0'}, {'intent': 'MCM_scholarships', 'probability': '0.0'}, {'intent': 'ME_branch', 'probability': '0.0'}, {'intent': 'MTB', 'probability': '0.0'}, {'intent': 'NSO', 'probability': '0.0'}, {'intent': 'NSS', 'probability': '0.0'}, {'intent': 'art_geeks', 'probability': '0.0'}, {'intent': 'atm_and_bank_facilities', 'probability': '0.0'}, {'intent': 'books', 'probability': '0.0'}, {'intent': 'branch_change_cutoff_cgpa', 'probability': '0.0'}, {'intent': 'bus_schedule_IITMandi', 'probability': '0.0'}, {'intent': 'campus_facilities', 'probability': '0.0'}, {'intent': 'campus_for_freshers', 'probability': '0.0'}, {'intent': 'canteens_facilities', 'probability': '0.0'}, {'intent': 'certificates_and_documents', 'probability': '0.0'}, {'intent': 'change_room', 'probability': '0.0'}, {'intent': 'cinema_hall', 'probability': '0.0'}, {'intent': 'class_commencement', 'probability': '0.0'}, {'intent': 'club_audition', 'probability': '0.0'}, {'intent': 'co_curricular', 'probability': '0.0'}, {'intent': 'coding_culture', 'probability': '0.0'}, {'intent': 'companies_for_placements', 'probability': '0.0'}, {'intent': 'cultural_clubs', 'probability': '0.0'}, {'intent': 'curriculum_CE', 'probability': '0.0'}, {'intent': 'curriculum_CSE', 'probability': '0.0'}, {'intent': 'curriculum_DSE', 'probability': '0.0'}, {'intent': 'curriculum_EE', 'probability': '0.0'}, {'intent': 'curriculum_EP', 'probability': '0.0'}, {'intent': 'curriculum_ME', 'probability': '0.0'}, {'intent': 'curriculum_overall', 'probability': '0.0'}, {'intent': 'cycle', 'probability': '0.0'}, {'intent': 'dance_club', 'probability': '0.0'}, {'intent': 'debating_club', 'probability': '0.0'}, {'intent': 'drama_club', 'probability': '0.0'}, {'intent': 'e_cell', 'probability': '0.0'}, {'intent': 'education_loan', 'probability': '0.0'}, {'intent': 'elective_courses', 'probability': '0.0'}, {'intent': 'faculties', 'probability': '0.0'}, {'intent': 'family_memebers_stay', 'probability': '0.0'}, {'intent': 'famous_alumni', 'probability': '0.0'}, {'intent': 'fees', 'probability': '0.0'}, {'intent': 'festival_holiday', 'probability': '0.0'}, {'intent': 'festivals_celebration', 'probability': '0.0'}, {'intent': 'first_year_courses', 'probability': '0.0'}, {'intent': 'goodbye', 'probability': '0.0'}, {'intent': 'grading_system', 'probability': '0.0'}, {'intent': 'greeting', 'probability': '0.0'}, {'intent': 'guest_house', 'probability': '0.0'}, {'intent': 'gym_facilities', 'probability': '0.0'}, {'intent': 'heaters_allowed', 'probability': '0.0'}, {'intent': 'hostel_allotment', 'probability': '0.0'}, {'intent': 'hostel_facilities', 'probability': '0.0'}, {'intent': 'hostel_necessities', 'probability': '0.0'}, {'intent': 'hostel_rules', 'probability': '0.0'}, {'intent': 'hotels_for_stay', 'probability': '0.0'}, {'intent': 'images_campus', 'probability': '0.0'}, {'intent': 'images_hostels_rooms', 'probability': '0.0'}, {'intent': 'internet_facilities', 'probability': '0.0'}, {'intent': 'internship_scenerio', 'probability': '0.0'}, {'intent': 'jain_food', 'probability': '0.0'}, {'intent': 'labs_and_research', 'probability': '0.0'}, {'intent': 'laptop', 'probability': '0.0'}, {'intent': 'last_year_closing_ranks', 'probability': '0.0'}, {'intent': 'life_at_IITMandi', 'probability': '0.0'}, {'intent': 'list_of_required_items', 'probability': '0.0'}, {'intent': 'literary_society', 'probability': '0.0'}, {'intent': 'mandi_town', 'probability': '0.0'}, {'intent': 'map_IIT_Mandi', 'probability': '0.0'}, {'intent': 'mentor', 'probability': '0.0'}, {'intent': 'mess_food', 'probability': '0.0'}, {'intent': 'music_club', 'probability': '0.0'}, {'intent': 'network_sim', 'probability': '0.0'}, {'intent': 'nirmaan_club', 'probability': '0.0'}, {'intent': 'noanswer', 'probability': '0.0'}, {'intent': 'non_veg', 'probability': '0.0'}, {'intent': 'online_delivery', 'probability': '0.0'}, {'intent': 'options', 'probability': '0.0'}, {'intent': 'placement_CE', 'probability': '0.0'}, {'intent': 'placement_CSE', 'probability': '0.0'}, {'intent': 'placement_DSE', 'probability': '0.0'}, {'intent': 'placement_EE', 'probability': '0.0'}, {'intent': 'placement_ME', 'probability': '0.0'}, {'intent': 'placement_overall', 'probability': '0.0'}, {'intent': 'placements_EP', 'probability': '0.0'}, {'intent': 'problem_contact', 'probability': '0.0'}, {'intent': 'programming_club', 'probability': '0.0'}, {'intent': 'pure_veg', 'probability': '0.0'}, {'intent': 'quizzing_club', 'probability': '0.0'}, {'intent': 'ragging', 'probability': '0.0'}, {'intent': 'ranneeti', 'probability': '0.0'}, {'intent': 'registration_day', 'probability': '0.0'}, {'intent': 'robotronics_club', 'probability': '0.0'}, {'intent': 'room_occupancy', 'probability': '0.0'}, {'intent': 'scientific_calculator', 'probability': '0.0'}, {'intent': 'seniors', 'probability': '0.0'}, {'intent': 'snow_iit_mandi', 'probability': '0.0'}, {'intent': 'soft_copy_of_documents', 'probability': '0.0'}, {'intent': 'sports', 'probability': '0.0'}, {'intent': 'stac', 'probability': '0.0'}, {'intent': 'swimming_pool_facilities', 'probability': '0.0'}, {'intent': 'tech_clubs', 'probability': '0.0'}, {'intent': 'thanks', 'probability': '0.0'}, {'intent': 'ug_pg_hostels_together', 'probability': '0.0'}, {'intent': 'unique_activities', 'probability': '0.0'}, {'intent': 'vacations', 'probability': '0.0'}, {'intent': 'which_laptop', 'probability': '0.0'}, {'intent': 'why_IITMANDI', 'probability': '0.0'}, {'intent': 'wild_animals', 'probability': '0.0'}, {'intent': 'writing_club', 'probability': '0.0'}, {'intent': 'yantric_club', 'probability': '0.0'}]\n",
            "BOT:  Branch change depends solely on your CGPA (Cumulative Grade Point Average) for the first two semesters. Compared to other IITs, it is easy to get a branch change here. For a more details kindly have a look at the link below:\n",
            "http://iitmandi.ac.in/academics/branch_change.php\n"
          ],
          "name": "stdout"
        }
      ]
    },
    {
      "cell_type": "code",
      "metadata": {
        "id": "-ogUkKKmi7OK",
        "colab_type": "code",
        "colab": {
          "base_uri": "https://localhost:8080/",
          "height": 641
        },
        "outputId": "cb5c572c-0de6-43b8-cbf4-293f250e03cf"
      },
      "source": [
        "print(\"BOT: \", chatbot_response(\"what sports facilities are available\"))"
      ],
      "execution_count": 46,
      "outputs": [
        {
          "output_type": "stream",
          "text": [
            "res:  [1.6103900e-24 1.4560162e-38 8.9213577e-38 0.0000000e+00 4.1825998e-31\n",
            " 9.5348988e-28 8.5238113e-36 4.6780180e-10 1.7988688e-35 2.3776717e-15\n",
            " 0.0000000e+00 7.0043654e-19 2.5799390e-34 2.0063372e-37 1.2657104e-35\n",
            " 8.6566150e-30 3.4538476e-38 1.6550017e-07 1.5732545e-15 6.0919836e-32\n",
            " 0.0000000e+00 8.4954518e-18 1.1520206e-35 5.4537279e-22 9.9999857e-01\n",
            " 0.0000000e+00 4.0473260e-19 4.5363096e-23 1.6075699e-35 3.0461507e-15\n",
            " 1.6226771e-20 6.4784696e-35 0.0000000e+00 5.6335553e-12 0.0000000e+00\n",
            " 1.1414769e-37 1.2390036e-09 0.0000000e+00 1.8092053e-35 5.9702803e-25\n",
            " 4.1095879e-19 1.2564873e-22 9.2790477e-30 0.0000000e+00 2.1697401e-22\n",
            " 0.0000000e+00 1.0400977e-19 0.0000000e+00 7.2583415e-34 0.0000000e+00\n",
            " 1.1811802e-22 3.9577412e-08 7.5431306e-35 1.7717464e-32 1.9470920e-18\n",
            " 0.0000000e+00 2.2683875e-19 2.0152805e-15 2.6843906e-34 5.5457014e-29\n",
            " 6.6956498e-21 1.1200315e-21 8.5954778e-37 0.0000000e+00 5.6625818e-33\n",
            " 0.0000000e+00 0.0000000e+00 1.3457167e-23 2.0886129e-34 0.0000000e+00\n",
            " 0.0000000e+00 1.8323559e-34 6.0991723e-31 0.0000000e+00 2.4870812e-35\n",
            " 6.2994707e-27 0.0000000e+00 1.7454027e-17 1.1495032e-31 1.1210311e-37\n",
            " 2.8904785e-24 9.4372591e-30 3.2655272e-14 3.3296230e-10 0.0000000e+00\n",
            " 8.1948319e-28 1.8499963e-22 2.7976299e-38 4.4065351e-36 0.0000000e+00\n",
            " 1.2047670e-06 7.6076999e-17 0.0000000e+00 5.4777912e-21 5.1015497e-25\n",
            " 3.6655585e-27 4.4901018e-30 0.0000000e+00 2.1770483e-26 0.0000000e+00\n",
            " 2.2470693e-36 6.9535716e-26 1.1229085e-25 1.8935939e-36 5.8772876e-27\n",
            " 2.8463040e-33 0.0000000e+00 0.0000000e+00 2.1497257e-32 3.4339974e-30\n",
            " 2.9968087e-30 0.0000000e+00 1.9020553e-23 4.1453212e-30 8.5353633e-28\n",
            " 1.7615184e-37 1.9623627e-26 5.5110429e-25 4.3767359e-27 0.0000000e+00\n",
            " 8.7918224e-24 3.9085716e-32 1.1130493e-31 1.5591042e-11 5.4053635e-30\n",
            " 8.6666803e-25]\n",
            "results:  [[0, 1.61039e-24], [1, 1.4560162e-38], [2, 8.9213577e-38], [3, 0.0], [4, 4.1826e-31], [5, 9.534899e-28], [6, 8.523811e-36], [7, 4.678018e-10], [8, 1.7988688e-35], [9, 2.3776717e-15], [10, 0.0], [11, 7.0043654e-19], [12, 2.579939e-34], [13, 2.0063372e-37], [14, 1.2657104e-35], [15, 8.656615e-30], [16, 3.4538476e-38], [17, 1.6550017e-07], [18, 1.5732545e-15], [19, 6.0919836e-32], [20, 0.0], [21, 8.495452e-18], [22, 1.1520206e-35], [23, 5.453728e-22], [24, 0.99999857], [25, 0.0], [26, 4.047326e-19], [27, 4.5363096e-23], [28, 1.6075699e-35], [29, 3.0461507e-15], [30, 1.6226771e-20], [31, 6.4784696e-35], [32, 0.0], [33, 5.6335553e-12], [34, 0.0], [35, 1.1414769e-37], [36, 1.2390036e-09], [37, 0.0], [38, 1.8092053e-35], [39, 5.9702803e-25], [40, 4.1095879e-19], [41, 1.2564873e-22], [42, 9.279048e-30], [43, 0.0], [44, 2.16974e-22], [45, 0.0], [46, 1.0400977e-19], [47, 0.0], [48, 7.2583415e-34], [49, 0.0], [50, 1.1811802e-22], [51, 3.957741e-08], [52, 7.5431306e-35], [53, 1.7717464e-32], [54, 1.947092e-18], [55, 0.0], [56, 2.2683875e-19], [57, 2.0152805e-15], [58, 2.6843906e-34], [59, 5.5457014e-29], [60, 6.69565e-21], [61, 1.1200315e-21], [62, 8.595478e-37], [63, 0.0], [64, 5.662582e-33], [65, 0.0], [66, 0.0], [67, 1.3457167e-23], [68, 2.0886129e-34], [69, 0.0], [70, 0.0], [71, 1.8323559e-34], [72, 6.0991723e-31], [73, 0.0], [74, 2.4870812e-35], [75, 6.2994707e-27], [76, 0.0], [77, 1.7454027e-17], [78, 1.1495032e-31], [79, 1.1210311e-37], [80, 2.8904785e-24], [81, 9.437259e-30], [82, 3.265527e-14], [83, 3.329623e-10], [84, 0.0], [85, 8.194832e-28], [86, 1.8499963e-22], [87, 2.79763e-38], [88, 4.406535e-36], [89, 0.0], [90, 1.204767e-06], [91, 7.6077e-17], [92, 0.0], [93, 5.477791e-21], [94, 5.1015497e-25], [95, 3.6655585e-27], [96, 4.4901018e-30], [97, 0.0], [98, 2.1770483e-26], [99, 0.0], [100, 2.2470693e-36], [101, 6.9535716e-26], [102, 1.1229085e-25], [103, 1.893594e-36], [104, 5.8772876e-27], [105, 2.846304e-33], [106, 0.0], [107, 0.0], [108, 2.1497257e-32], [109, 3.4339974e-30], [110, 2.9968087e-30], [111, 0.0], [112, 1.9020553e-23], [113, 4.1453212e-30], [114, 8.535363e-28], [115, 1.7615184e-37], [116, 1.9623627e-26], [117, 5.511043e-25], [118, 4.376736e-27], [119, 0.0], [120, 8.7918224e-24], [121, 3.9085716e-32], [122, 1.1130493e-31], [123, 1.5591042e-11], [124, 5.4053635e-30], [125, 8.66668e-25]]\n",
            "[{'intent': 'campus_facilities', 'probability': '0.99999857'}, {'intent': 'options', 'probability': '1.204767e-06'}, {'intent': 'NSS', 'probability': '1.6550017e-07'}, {'intent': 'faculties', 'probability': '3.957741e-08'}, {'intent': 'curriculum_Biotech', 'probability': '1.2390036e-09'}, {'intent': 'Exodia', 'probability': '4.678018e-10'}, {'intent': 'mess_food', 'probability': '3.329623e-10'}, {'intent': 'wild_animals', 'probability': '1.5591042e-11'}, {'intent': 'coding_culture', 'probability': '5.6335553e-12'}, {'intent': 'mentor', 'probability': '3.265527e-14'}, {'intent': 'cinema_hall', 'probability': '3.0461507e-15'}, {'intent': 'How_to_reach_IITMANDI', 'probability': '2.3776717e-15'}, {'intent': 'first_year_courses', 'probability': '2.0152805e-15'}, {'intent': 'art_geeks', 'probability': '1.5732545e-15'}, {'intent': 'placement_BioTech', 'probability': '7.6077e-17'}, {'intent': 'life_at_IITMandi', 'probability': '1.7454027e-17'}, {'intent': 'branch_change_criterion', 'probability': '8.495452e-18'}, {'intent': 'fees', 'probability': '1.947092e-18'}, {'intent': 'IITMandi_vs_other_new_IITs', 'probability': '7.0043654e-19'}, {'intent': 'curriculum_EE', 'probability': '4.1095879e-19'}, {'intent': 'canteens_facilities', 'probability': '4.047326e-19'}, {'intent': 'festivals_celebration', 'probability': '2.2683875e-19'}, {'intent': 'debating_club', 'probability': '1.0400977e-19'}, {'intent': 'class_commencement', 'probability': '1.6226771e-20'}, {'intent': 'greeting', 'probability': '6.69565e-21'}, {'intent': 'placement_CSE', 'probability': '5.477791e-21'}, {'intent': 'guest_house', 'probability': '1.1200315e-21'}, {'intent': 'bus_schedule_IITMandi', 'probability': '5.453728e-22'}, {'intent': 'cycle', 'probability': '2.16974e-22'}, {'intent': 'nirmaan_club', 'probability': '1.8499963e-22'}, {'intent': 'curriculum_EP', 'probability': '1.2564873e-22'}, {'intent': 'elective_courses', 'probability': '1.1811802e-22'}, {'intent': 'certificates_and_documents', 'probability': '4.5363096e-23'}, {'intent': 'sports', 'probability': '1.9020553e-23'}, {'intent': 'hostel_rules', 'probability': '1.3457167e-23'}, {'intent': 'weather_at_IITMandi', 'probability': '8.7918224e-24'}, {'intent': 'mandi_town', 'probability': '2.8904785e-24'}, {'intent': '5WIP', 'probability': '1.61039e-24'}, {'intent': 'yantric_club', 'probability': '8.66668e-25'}, {'intent': 'curriculum_DSE', 'probability': '5.9702803e-25'}, {'intent': 'ug_pg_hostels_together', 'probability': '5.511043e-25'}, {'intent': 'placement_DSE', 'probability': '5.1015497e-25'}, {'intent': 'quizzing_club', 'probability': '1.1229085e-25'}, {'intent': 'pure_veg', 'probability': '6.9535716e-26'}, {'intent': 'placements_EP', 'probability': '2.1770483e-26'}, {'intent': 'thanks', 'probability': '1.9623627e-26'}, {'intent': 'laptop', 'probability': '6.2994707e-27'}, {'intent': 'ranneeti', 'probability': '5.8772876e-27'}, {'intent': 'unique_activities', 'probability': '4.376736e-27'}, {'intent': 'placement_EE', 'probability': '3.6655585e-27'}, {'intent': 'EE_branch', 'probability': '9.534899e-28'}, {'intent': 'swimming_pool_facilities', 'probability': '8.535363e-28'}, {'intent': 'network_sim', 'probability': '8.194832e-28'}, {'intent': 'grading_system', 'probability': '5.5457014e-29'}, {'intent': 'map_IIT_Mandi', 'probability': '9.437259e-30'}, {'intent': 'curriculum_ME', 'probability': '9.279048e-30'}, {'intent': 'MTB', 'probability': '8.656615e-30'}, {'intent': 'writing_club', 'probability': '5.4053635e-30'}, {'intent': 'placement_ME', 'probability': '4.4901018e-30'}, {'intent': 'stac', 'probability': '4.1453212e-30'}, {'intent': 'seniors', 'probability': '3.4339974e-30'}, {'intent': 'snow_iit_mandi', 'probability': '2.9968087e-30'}, {'intent': 'internship_scenerio', 'probability': '6.0991723e-31'}, {'intent': 'DSE_branch', 'probability': '4.1826e-31'}, {'intent': 'list_of_required_items', 'probability': '1.1495032e-31'}, {'intent': 'why_IITMANDI', 'probability': '1.1130493e-31'}, {'intent': 'atm_and_bank_facilities', 'probability': '6.0919836e-32'}, {'intent': 'which_laptop', 'probability': '3.9085716e-32'}, {'intent': 'scientific_calculator', 'probability': '2.1497257e-32'}, {'intent': 'famous_alumni', 'probability': '1.7717464e-32'}, {'intent': 'hostel_allotment', 'probability': '5.662582e-33'}, {'intent': 'registration_day', 'probability': '2.846304e-33'}, {'intent': 'e_cell', 'probability': '7.2583415e-34'}, {'intent': 'goodbye', 'probability': '2.6843906e-34'}, {'intent': 'IIT_Mandi_campus', 'probability': '2.579939e-34'}, {'intent': 'hotels_for_stay', 'probability': '2.0886129e-34'}, {'intent': 'internet_facilities', 'probability': '1.8323559e-34'}, {'intent': 'family_memebers_stay', 'probability': '7.5431306e-35'}, {'intent': 'club_audition', 'probability': '6.4784696e-35'}, {'intent': 'labs_and_research', 'probability': '2.4870812e-35'}, {'intent': 'curriculum_CSE', 'probability': '1.8092053e-35'}, {'intent': 'HnT', 'probability': '1.7988688e-35'}, {'intent': 'change_room', 'probability': '1.6075699e-35'}, {'intent': 'ME_branch', 'probability': '1.2657104e-35'}, {'intent': 'branch_change_cutoff_cgpa', 'probability': '1.1520206e-35'}, {'intent': 'EP_branch', 'probability': '8.523811e-36'}, {'intent': 'non_veg', 'probability': '4.406535e-36'}, {'intent': 'programming_club', 'probability': '2.2470693e-36'}, {'intent': 'ragging', 'probability': '1.893594e-36'}, {'intent': 'gym_facilities', 'probability': '8.595478e-37'}, {'intent': 'MCM_scholarships', 'probability': '2.0063372e-37'}, {'intent': 'tech_clubs', 'probability': '1.7615184e-37'}, {'intent': 'cultural_clubs', 'probability': '1.1414769e-37'}, {'intent': 'literary_society', 'probability': '1.1210311e-37'}, {'intent': 'CE_branch', 'probability': '8.9213577e-38'}, {'intent': 'NSO', 'probability': '3.4538476e-38'}, {'intent': 'noanswer', 'probability': '2.79763e-38'}, {'intent': 'Biotech_branch', 'probability': '1.4560162e-38'}, {'intent': 'CSE_branch', 'probability': '0.0'}, {'intent': 'IITMANDI_for_girls', 'probability': '0.0'}, {'intent': 'books', 'probability': '0.0'}, {'intent': 'campus_for_freshers', 'probability': '0.0'}, {'intent': 'co_curricular', 'probability': '0.0'}, {'intent': 'companies_for_placements', 'probability': '0.0'}, {'intent': 'curriculum_CE', 'probability': '0.0'}, {'intent': 'curriculum_overall', 'probability': '0.0'}, {'intent': 'dance_club', 'probability': '0.0'}, {'intent': 'drama_club', 'probability': '0.0'}, {'intent': 'education_loan', 'probability': '0.0'}, {'intent': 'festival_holiday', 'probability': '0.0'}, {'intent': 'heaters_allowed', 'probability': '0.0'}, {'intent': 'hostel_facilities', 'probability': '0.0'}, {'intent': 'hostel_necessities', 'probability': '0.0'}, {'intent': 'images_campus', 'probability': '0.0'}, {'intent': 'images_hostels_rooms', 'probability': '0.0'}, {'intent': 'jain_food', 'probability': '0.0'}, {'intent': 'last_year_closing_ranks', 'probability': '0.0'}, {'intent': 'music_club', 'probability': '0.0'}, {'intent': 'online_delivery', 'probability': '0.0'}, {'intent': 'placement_CE', 'probability': '0.0'}, {'intent': 'placement_overall', 'probability': '0.0'}, {'intent': 'problem_contact', 'probability': '0.0'}, {'intent': 'robotronics_club', 'probability': '0.0'}, {'intent': 'room_occupancy', 'probability': '0.0'}, {'intent': 'soft_copy_of_documents', 'probability': '0.0'}, {'intent': 'vacations', 'probability': '0.0'}]\n",
            "BOT:  Apart from these you'll get following facilities in the campus:\n",
            "\n",
            "1. Stationery shop\n",
            "2. Provisional cum general store\n",
            "3. A Medical Unit\n",
            "4. Canteens\n"
          ],
          "name": "stdout"
        }
      ]
    },
    {
      "cell_type": "code",
      "metadata": {
        "id": "eR5M-xM5jGCj",
        "colab_type": "code",
        "colab": {}
      },
      "source": [
        ""
      ],
      "execution_count": null,
      "outputs": []
    }
  ]
}